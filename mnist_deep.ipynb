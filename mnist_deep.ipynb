{
  "nbformat": 4,
  "nbformat_minor": 0,
  "metadata": {
    "colab": {
      "name": "mnist_deep.ipynb",
      "version": "0.3.2",
      "provenance": [],
      "collapsed_sections": [],
      "include_colab_link": true
    },
    "kernelspec": {
      "name": "python3",
      "display_name": "Python 3"
    },
    "accelerator": "TPU"
  },
  "cells": [
    {
      "cell_type": "markdown",
      "metadata": {
        "id": "view-in-github",
        "colab_type": "text"
      },
      "source": [
        "<a href=\"https://colab.research.google.com/github/Saurabh919yadav/MNIST_Keras/blob/master/mnist_deep.ipynb\" target=\"_parent\"><img src=\"https://colab.research.google.com/assets/colab-badge.svg\" alt=\"Open In Colab\"/></a>"
      ]
    },
    {
      "metadata": {
        "id": "IWPdZ2091RG2",
        "colab_type": "code",
        "outputId": "9cc36b56-9507-41a8-c049-d596b77c65b9",
        "colab": {
          "base_uri": "https://localhost:8080/",
          "height": 35
        }
      },
      "cell_type": "code",
      "source": [
        "import numpy as np\n",
        "from keras.datasets import mnist\n",
        "from keras.models import Sequential\n",
        "from keras.layers import Dense\n",
        "from keras.layers import Dropout\n",
        "from keras.layers import Flatten\n",
        "from keras.constraints import maxnorm\n",
        "from keras.optimizers import Adam,Adadelta\n",
        "from keras.layers.convolutional import Conv2D, MaxPooling2D\n",
        "from keras.utils import np_utils\n"
      ],
      "execution_count": 0,
      "outputs": [
        {
          "output_type": "stream",
          "text": [
            "Using TensorFlow backend.\n"
          ],
          "name": "stderr"
        }
      ]
    },
    {
      "metadata": {
        "id": "yyouWG8K3cnk",
        "colab_type": "code",
        "colab": {}
      },
      "cell_type": "code",
      "source": [
        "#load data\n",
        "(x_train, y_train), (x_test, y_test) = mnist.load_data()"
      ],
      "execution_count": 0,
      "outputs": []
    },
    {
      "metadata": {
        "id": "C11ahiZv3nlh",
        "colab_type": "code",
        "outputId": "91f40956-a2a4-4164-9876-e36ca1344e3e",
        "colab": {
          "base_uri": "https://localhost:8080/",
          "height": 87
        }
      },
      "cell_type": "code",
      "source": [
        "#normalize imput from 0-255 to 0.0-1.0\n",
        "x_train = x_train.astype('float32')\n",
        "x_test = x_test.astype('float32')\n",
        "\n",
        "x_train = x_train.reshape(60000, 28, 28, 1)\n",
        "x_test = x_test.reshape(10000, 28, 28, 1)\n",
        "\n",
        "x_train = x_train/255.0\n",
        "x_test = x_test/255.0\n",
        "print(\"X_train shape : \"+str(x_train.shape))\n",
        "print(\"X_test shape: \"+str(x_test.shape))\n",
        "\n",
        "#convert Y to categorical data\n",
        "y_train = np_utils.to_categorical(y_train,num_classes)\n",
        "y_test = np_utils.to_categorical(y_test,num_classes)\n",
        "\n",
        "print(\"Y_train shape : \"+str(y_train.shape))\n",
        "print(\"Y_test shape : \"+str(y_test.shape))"
      ],
      "execution_count": 0,
      "outputs": [
        {
          "output_type": "stream",
          "text": [
            "X_train shape : (60000, 28, 28, 1)\n",
            "X_test shape: (10000, 28, 28, 1)\n",
            "Y_train shape : (60000, 10)\n",
            "Y_test shape : (10000, 10)\n"
          ],
          "name": "stdout"
        }
      ]
    },
    {
      "metadata": {
        "id": "fR8R4XE_5HFP",
        "colab_type": "code",
        "colab": {}
      },
      "cell_type": "code",
      "source": [
        "num_classes=y_train.shape[1]\n",
        "epochs = 15\n",
        "batch_size = 128\n",
        "\n",
        "model = Sequential()\n",
        "model.add(Conv2D(32, kernel_size = (3,3), activation = 'relu',input_shape = (28,28,1), padding = 'same'))\n",
        "model.add(Dropout(0.2))\n",
        "model.add(Conv2D(32, kernel_size = (3,3),activation = 'relu', padding = 'same'))\n",
        "model.add(MaxPooling2D(pool_size=(2, 2)))\n",
        "model.add(Conv2D(64, (3, 3), activation='relu', padding='same'))\n",
        "model.add(Dropout(0.2))\n",
        "model.add(Conv2D(64, (3, 3), activation='relu', padding='same'))\n",
        "model.add(MaxPooling2D(pool_size = (2,2)))\n",
        "model.add(Conv2D(128, (3, 3), activation='relu', padding='same'))\n",
        "model.add(Dropout(0.2))\n",
        "model.add(Conv2D(128, (3, 3), activation='relu', padding='same'))\n",
        "model.add(MaxPooling2D(pool_size=(2, 2)))\n",
        "model.add(Flatten())\n",
        "model.add(Dropout(0.2))\n",
        "model.add(Dense(1024, activation='relu', kernel_constraint=maxnorm(3)))\n",
        "model.add(Dropout(0.2))\n",
        "model.add(Dense(512, activation = 'relu', kernel_constraint=maxnorm(3)))\n",
        "model.add(Dropout(0.2))\n",
        "model.add(Dense(num_classes, activation = 'softmax'))\n",
        "\n"
      ],
      "execution_count": 0,
      "outputs": []
    },
    {
      "metadata": {
        "id": "M-n-IWel-JAZ",
        "colab_type": "code",
        "outputId": "9a14761d-4ca9-44e9-e242-85e37b8e6611",
        "colab": {
          "base_uri": "https://localhost:8080/",
          "height": 815
        }
      },
      "cell_type": "code",
      "source": [
        "model.compile(loss = 'categorical_crossentropy',\n",
        "              optimizer = Adam(),\n",
        "              metrics = ['accuracy'])\n",
        "\n",
        "print(model.summary())"
      ],
      "execution_count": 0,
      "outputs": [
        {
          "output_type": "stream",
          "text": [
            "_________________________________________________________________\n",
            "Layer (type)                 Output Shape              Param #   \n",
            "=================================================================\n",
            "conv2d_13 (Conv2D)           (None, 28, 28, 32)        320       \n",
            "_________________________________________________________________\n",
            "dropout_13 (Dropout)         (None, 28, 28, 32)        0         \n",
            "_________________________________________________________________\n",
            "conv2d_14 (Conv2D)           (None, 28, 28, 32)        9248      \n",
            "_________________________________________________________________\n",
            "max_pooling2d_7 (MaxPooling2 (None, 14, 14, 32)        0         \n",
            "_________________________________________________________________\n",
            "conv2d_15 (Conv2D)           (None, 14, 14, 64)        18496     \n",
            "_________________________________________________________________\n",
            "dropout_14 (Dropout)         (None, 14, 14, 64)        0         \n",
            "_________________________________________________________________\n",
            "conv2d_16 (Conv2D)           (None, 14, 14, 64)        36928     \n",
            "_________________________________________________________________\n",
            "max_pooling2d_8 (MaxPooling2 (None, 7, 7, 64)          0         \n",
            "_________________________________________________________________\n",
            "conv2d_17 (Conv2D)           (None, 7, 7, 128)         73856     \n",
            "_________________________________________________________________\n",
            "dropout_15 (Dropout)         (None, 7, 7, 128)         0         \n",
            "_________________________________________________________________\n",
            "conv2d_18 (Conv2D)           (None, 7, 7, 128)         147584    \n",
            "_________________________________________________________________\n",
            "max_pooling2d_9 (MaxPooling2 (None, 3, 3, 128)         0         \n",
            "_________________________________________________________________\n",
            "flatten_3 (Flatten)          (None, 1152)              0         \n",
            "_________________________________________________________________\n",
            "dropout_16 (Dropout)         (None, 1152)              0         \n",
            "_________________________________________________________________\n",
            "dense_7 (Dense)              (None, 1024)              1180672   \n",
            "_________________________________________________________________\n",
            "dropout_17 (Dropout)         (None, 1024)              0         \n",
            "_________________________________________________________________\n",
            "dense_8 (Dense)              (None, 512)               524800    \n",
            "_________________________________________________________________\n",
            "dropout_18 (Dropout)         (None, 512)               0         \n",
            "_________________________________________________________________\n",
            "dense_9 (Dense)              (None, 10)                5130      \n",
            "=================================================================\n",
            "Total params: 1,997,034\n",
            "Trainable params: 1,997,034\n",
            "Non-trainable params: 0\n",
            "_________________________________________________________________\n",
            "None\n"
          ],
          "name": "stdout"
        }
      ]
    },
    {
      "metadata": {
        "id": "ViJgbEgX-4Lz",
        "colab_type": "code",
        "outputId": "1b50ef55-430a-4916-9bd7-60e7a80bfac9",
        "colab": {
          "base_uri": "https://localhost:8080/",
          "height": 755
        }
      },
      "cell_type": "code",
      "source": [
        "model.fit(x_train, y_train,\n",
        "          validation_data = (x_test, y_test),\n",
        "          verbose = 1,\n",
        "          epochs = epochs,\n",
        "          batch_size = batch_size)\n",
        "\n",
        "score = model.evaluate(x_test, y_test, verbose = 0)\n",
        "print('test loss',score[0])\n",
        "print('test accuracy',score[1])"
      ],
      "execution_count": 0,
      "outputs": [
        {
          "output_type": "stream",
          "text": [
            "Train on 60000 samples, validate on 10000 samples\n",
            "Epoch 1/15\n",
            "60000/60000 [==============================] - 654s 11ms/step - loss: 0.2340 - acc: 0.9236 - val_loss: 0.0517 - val_acc: 0.9851\n",
            "Epoch 2/15\n",
            "60000/60000 [==============================] - 448s 7ms/step - loss: 0.0573 - acc: 0.9822 - val_loss: 0.0388 - val_acc: 0.9882\n",
            "Epoch 3/15\n",
            "60000/60000 [==============================] - 451s 8ms/step - loss: 0.0446 - acc: 0.9863 - val_loss: 0.0253 - val_acc: 0.9918\n",
            "Epoch 4/15\n",
            "60000/60000 [==============================] - 449s 7ms/step - loss: 0.0352 - acc: 0.9891 - val_loss: 0.0245 - val_acc: 0.9927\n",
            "Epoch 5/15\n",
            "60000/60000 [==============================] - 450s 8ms/step - loss: 0.0322 - acc: 0.9907 - val_loss: 0.0282 - val_acc: 0.9929\n",
            "Epoch 6/15\n",
            "60000/60000 [==============================] - 436s 7ms/step - loss: 0.0301 - acc: 0.9908 - val_loss: 0.0242 - val_acc: 0.9927\n",
            "Epoch 7/15\n",
            "60000/60000 [==============================] - 430s 7ms/step - loss: 0.0275 - acc: 0.9917 - val_loss: 0.0264 - val_acc: 0.9925\n",
            "Epoch 8/15\n",
            "60000/60000 [==============================] - 433s 7ms/step - loss: 0.0244 - acc: 0.9929 - val_loss: 0.0328 - val_acc: 0.9920\n",
            "Epoch 9/15\n",
            "60000/60000 [==============================] - 434s 7ms/step - loss: 0.0216 - acc: 0.9934 - val_loss: 0.0235 - val_acc: 0.9935\n",
            "Epoch 10/15\n",
            "60000/60000 [==============================] - 431s 7ms/step - loss: 0.0211 - acc: 0.9935 - val_loss: 0.0270 - val_acc: 0.9925\n",
            "Epoch 11/15\n",
            "60000/60000 [==============================] - 437s 7ms/step - loss: 0.0211 - acc: 0.9938 - val_loss: 0.0296 - val_acc: 0.9929\n",
            "Epoch 12/15\n",
            "60000/60000 [==============================] - 439s 7ms/step - loss: 0.0188 - acc: 0.9942 - val_loss: 0.0239 - val_acc: 0.9938\n",
            "Epoch 13/15\n",
            "60000/60000 [==============================] - 439s 7ms/step - loss: 0.0179 - acc: 0.9950 - val_loss: 0.0245 - val_acc: 0.9934\n",
            "Epoch 14/15\n",
            "60000/60000 [==============================] - 432s 7ms/step - loss: 0.0161 - acc: 0.9951 - val_loss: 0.0260 - val_acc: 0.9945\n",
            "Epoch 15/15\n",
            "60000/60000 [==============================] - 429s 7ms/step - loss: 0.0177 - acc: 0.9951 - val_loss: 0.0237 - val_acc: 0.9933\n"
          ],
          "name": "stdout"
        },
        {
          "output_type": "error",
          "ename": "NameError",
          "evalue": "ignored",
          "traceback": [
            "\u001b[0;31m---------------------------------------------------------------------------\u001b[0m",
            "\u001b[0;31mNameError\u001b[0m                                 Traceback (most recent call last)",
            "\u001b[0;32m<ipython-input-16-5f512bbf84d2>\u001b[0m in \u001b[0;36m<module>\u001b[0;34m()\u001b[0m\n\u001b[1;32m      6\u001b[0m \u001b[0;34m\u001b[0m\u001b[0m\n\u001b[1;32m      7\u001b[0m \u001b[0mscores\u001b[0m \u001b[0;34m=\u001b[0m \u001b[0mmodel\u001b[0m\u001b[0;34m.\u001b[0m\u001b[0mevaluate\u001b[0m\u001b[0;34m(\u001b[0m\u001b[0mx_test\u001b[0m\u001b[0;34m,\u001b[0m \u001b[0my_test\u001b[0m\u001b[0;34m,\u001b[0m \u001b[0mverbose\u001b[0m \u001b[0;34m=\u001b[0m \u001b[0;36m0\u001b[0m\u001b[0;34m)\u001b[0m\u001b[0;34m\u001b[0m\u001b[0m\n\u001b[0;32m----> 8\u001b[0;31m \u001b[0mprint\u001b[0m\u001b[0;34m(\u001b[0m\u001b[0;34m'test loss'\u001b[0m\u001b[0;34m,\u001b[0m\u001b[0mscore\u001b[0m\u001b[0;34m[\u001b[0m\u001b[0;36m0\u001b[0m\u001b[0;34m]\u001b[0m\u001b[0;34m)\u001b[0m\u001b[0;34m\u001b[0m\u001b[0m\n\u001b[0m\u001b[1;32m      9\u001b[0m \u001b[0mprint\u001b[0m\u001b[0;34m(\u001b[0m\u001b[0;34m'test accuracy'\u001b[0m\u001b[0;34m,\u001b[0m\u001b[0mscore\u001b[0m\u001b[0;34m[\u001b[0m\u001b[0;36m1\u001b[0m\u001b[0;34m]\u001b[0m\u001b[0;34m)\u001b[0m\u001b[0;34m\u001b[0m\u001b[0m\n",
            "\u001b[0;31mNameError\u001b[0m: name 'score' is not defined"
          ]
        }
      ]
    },
    {
      "metadata": {
        "id": "YmmP6ibCAO8D",
        "colab_type": "code",
        "outputId": "f03e52bf-84a5-4542-ec9a-b3e998fc0b32",
        "colab": {
          "base_uri": "https://localhost:8080/",
          "height": 52
        }
      },
      "cell_type": "code",
      "source": [
        "score = model.evaluate(x_test, y_test, verbose = 0)\n",
        "print('test loss',score[0])\n",
        "print('test accuracy',score[1])"
      ],
      "execution_count": 0,
      "outputs": [
        {
          "output_type": "stream",
          "text": [
            "test loss 0.02365097545398521\n",
            "test accuracy 0.9933\n"
          ],
          "name": "stdout"
        }
      ]
    },
    {
      "metadata": {
        "id": "XW_ne8W7mRtI",
        "colab_type": "code",
        "colab": {}
      },
      "cell_type": "code",
      "source": [
        ""
      ],
      "execution_count": 0,
      "outputs": []
    }
  ]
}