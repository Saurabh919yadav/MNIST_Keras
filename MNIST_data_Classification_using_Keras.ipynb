{
  "nbformat": 4,
  "nbformat_minor": 0,
  "metadata": {
    "colab": {
      "name": "MNIST data Classification using Keras.ipynb",
      "version": "0.3.2",
      "provenance": [],
      "include_colab_link": true
    },
    "kernelspec": {
      "name": "python3",
      "display_name": "Python 3"
    },
    "accelerator": "GPU"
  },
  "cells": [
    {
      "cell_type": "markdown",
      "metadata": {
        "id": "view-in-github",
        "colab_type": "text"
      },
      "source": [
        "<a href=\"https://colab.research.google.com/github/Saurabh919yadav/MNIST_Keras/blob/master/MNIST_data_Classification_using_Keras.ipynb\" target=\"_parent\"><img src=\"https://colab.research.google.com/assets/colab-badge.svg\" alt=\"Open In Colab\"/></a>"
      ]
    },
    {
      "metadata": {
        "id": "W6BnE0ASix24",
        "colab_type": "code",
        "colab": {}
      },
      "cell_type": "code",
      "source": [
        "import keras\n",
        "from keras.datasets import mnist\n",
        "from keras.models import Sequential\n",
        "from keras.layers import Dense, Dropout, Flatten\n",
        "from keras.layers import Conv2D, MaxPooling2D\n",
        "import numpy as np"
      ],
      "execution_count": 0,
      "outputs": []
    },
    {
      "metadata": {
        "scrolled": false,
        "id": "TFmXz4Viix3I",
        "colab_type": "code",
        "outputId": "69401502-68e9-4613-99f2-3258dd3795ea",
        "colab": {
          "base_uri": "https://localhost:8080/",
          "height": 69
        }
      },
      "cell_type": "code",
      "source": [
        "batch_size = 128\n",
        "num_classes =10\n",
        "epochs = 20\n",
        "\n",
        "#input image dimensions\n",
        "img_rows, img_cols = 28, 28\n",
        "\n",
        "#the data, split between train and test sets\n",
        "(x_train, y_train), (x_test, y_test) = mnist.load_data()\n",
        "\n",
        "\n",
        "x_train = x_train.reshape(60000, 28, 28, 1)\n",
        "x_test = x_test.reshape(10000, 28, 28, 1)\n",
        "\n",
        "print('x_train shape : ', x_train.shape)\n",
        "print(x_train.shape[0], 'train samples')\n",
        "print(x_test.shape[0], 'test samples')\n",
        "\n",
        "#convert class vectors to binary class matrics\n",
        "y_train = keras.utils.to_categorical(y_train, num_classes)\n",
        "y_test = keras.utils.to_categorical(y_test, num_classes)"
      ],
      "execution_count": 0,
      "outputs": [
        {
          "output_type": "stream",
          "text": [
            "x_train shape :  (60000, 28, 28, 1)\n",
            "60000 train samples\n",
            "10000 test samples\n"
          ],
          "name": "stdout"
        }
      ]
    },
    {
      "metadata": {
        "id": "JmcmzF_qix3S",
        "colab_type": "code",
        "colab": {}
      },
      "cell_type": "code",
      "source": [
        "model = Sequential()\n",
        "model.add(Conv2D(32, kernel_size=(3,3),\n",
        "                 activation= 'relu',\n",
        "                 input_shape= (28,28,1)))\n",
        "\n",
        "model.add(Conv2D(64, (3,3), activation='relu'))\n",
        "model.add(MaxPooling2D(pool_size=(2,2)))\n",
        "model.add(Dropout(0.25))\n",
        "model.add(Flatten())\n",
        "model.add(Dense(128, activation='relu'))\n",
        "model.add(Dropout(0.5))\n",
        "model.add(Dense(num_classes, activation='softmax'))\n"
      ],
      "execution_count": 0,
      "outputs": []
    },
    {
      "metadata": {
        "id": "E3RMRMSTix3X",
        "colab_type": "code",
        "outputId": "f1f0798c-05f3-4e56-e7c3-b3774871d459",
        "colab": {
          "base_uri": "https://localhost:8080/",
          "height": 763
        }
      },
      "cell_type": "code",
      "source": [
        "model.compile(loss = keras.losses.categorical_crossentropy, \n",
        "              optimizer = keras.optimizers.Adam(),\n",
        "              metrics=['accuracy'])\n",
        "\n",
        "model.fit(x_train, y_train,\n",
        "          batch_size= batch_size,\n",
        "          epochs=epochs,\n",
        "          verbose=1,\n",
        "          validation_data=(x_test, y_test))\n",
        "\n",
        "score = model.evaluate(x_test, y_test, verbose= 0)\n",
        "print('test loss', score[0])\n",
        "print('test accuracy', score[1])"
      ],
      "execution_count": 0,
      "outputs": [
        {
          "output_type": "stream",
          "text": [
            "Train on 60000 samples, validate on 10000 samples\n",
            "Epoch 1/20\n",
            "60000/60000 [==============================] - 10s 163us/step - loss: 2.6798 - acc: 0.7839 - val_loss: 0.0689 - val_acc: 0.9780\n",
            "Epoch 2/20\n",
            "60000/60000 [==============================] - 9s 153us/step - loss: 0.1151 - acc: 0.9670 - val_loss: 0.0496 - val_acc: 0.9847\n",
            "Epoch 3/20\n",
            "60000/60000 [==============================] - 9s 153us/step - loss: 0.0844 - acc: 0.9751 - val_loss: 0.0428 - val_acc: 0.9871\n",
            "Epoch 4/20\n",
            "60000/60000 [==============================] - 9s 152us/step - loss: 0.0700 - acc: 0.9790 - val_loss: 0.0459 - val_acc: 0.9869\n",
            "Epoch 5/20\n",
            "60000/60000 [==============================] - 10s 161us/step - loss: 0.0630 - acc: 0.9807 - val_loss: 0.0358 - val_acc: 0.9895\n",
            "Epoch 6/20\n",
            "60000/60000 [==============================] - 9s 156us/step - loss: 0.0554 - acc: 0.9829 - val_loss: 0.0341 - val_acc: 0.9894\n",
            "Epoch 7/20\n",
            "60000/60000 [==============================] - 10s 162us/step - loss: 0.0503 - acc: 0.9838 - val_loss: 0.0367 - val_acc: 0.9902\n",
            "Epoch 8/20\n",
            "60000/60000 [==============================] - 10s 159us/step - loss: 0.0481 - acc: 0.9853 - val_loss: 0.0361 - val_acc: 0.9889\n",
            "Epoch 9/20\n",
            "60000/60000 [==============================] - 9s 156us/step - loss: 0.0448 - acc: 0.9863 - val_loss: 0.0355 - val_acc: 0.9897\n",
            "Epoch 10/20\n",
            "60000/60000 [==============================] - 13s 214us/step - loss: 0.0406 - acc: 0.9875 - val_loss: 0.0382 - val_acc: 0.9889\n",
            "Epoch 11/20\n",
            "60000/60000 [==============================] - 18s 295us/step - loss: 0.0379 - acc: 0.9880 - val_loss: 0.0365 - val_acc: 0.9907\n",
            "Epoch 12/20\n",
            "60000/60000 [==============================] - 18s 294us/step - loss: 0.0408 - acc: 0.9873 - val_loss: 0.0393 - val_acc: 0.9908\n",
            "Epoch 13/20\n",
            "60000/60000 [==============================] - 18s 299us/step - loss: 0.0343 - acc: 0.9895 - val_loss: 0.0415 - val_acc: 0.9895\n",
            "Epoch 14/20\n",
            "60000/60000 [==============================] - 18s 296us/step - loss: 0.0319 - acc: 0.9901 - val_loss: 0.0317 - val_acc: 0.9914\n",
            "Epoch 15/20\n",
            "60000/60000 [==============================] - 18s 295us/step - loss: 0.0336 - acc: 0.9900 - val_loss: 0.0432 - val_acc: 0.9895\n",
            "Epoch 16/20\n",
            "60000/60000 [==============================] - 18s 295us/step - loss: 0.0292 - acc: 0.9907 - val_loss: 0.0415 - val_acc: 0.9903\n",
            "Epoch 17/20\n",
            "60000/60000 [==============================] - 18s 296us/step - loss: 0.0315 - acc: 0.9902 - val_loss: 0.0478 - val_acc: 0.9894\n",
            "Epoch 18/20\n",
            "60000/60000 [==============================] - 18s 297us/step - loss: 0.0315 - acc: 0.9907 - val_loss: 0.0418 - val_acc: 0.9892\n",
            "Epoch 19/20\n",
            "60000/60000 [==============================] - 18s 295us/step - loss: 0.0250 - acc: 0.9920 - val_loss: 0.0422 - val_acc: 0.9908\n",
            "Epoch 20/20\n",
            "60000/60000 [==============================] - 18s 295us/step - loss: 0.0282 - acc: 0.9916 - val_loss: 0.0521 - val_acc: 0.9895\n",
            "test loss 0.05213246408128996\n",
            "test accuracy 0.9895\n"
          ],
          "name": "stdout"
        }
      ]
    },
    {
      "metadata": {
        "id": "wYJNBVSdix3p",
        "colab_type": "code",
        "colab": {}
      },
      "cell_type": "code",
      "source": [
        " "
      ],
      "execution_count": 0,
      "outputs": []
    }
  ]
}